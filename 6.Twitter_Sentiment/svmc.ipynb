{
 "cells": [
  {
   "cell_type": "code",
   "execution_count": 8,
   "metadata": {},
   "outputs": [],
   "source": [
    "import pandas as pd\n",
    "import numpy as np\n",
    "import matplotlib.pyplot as plt\n",
    "from collections import Counter\n",
    "from sklearn.feature_selection import chi2\n",
    "import seaborn as sns\n",
    "from pprint import pprint\n",
    "\n",
    "import string\n",
    "import re\n",
    "from stop_words import get_stop_words\n",
    "import nltk, html\n",
    "\n",
    "from sklearn import svm\n",
    "from sklearn.model_selection import RandomizedSearchCV, train_test_split, ParameterGrid, KFold, cross_val_score, GridSearchCV, ShuffleSplit\n",
    "from sklearn.feature_extraction.text import TfidfVectorizer\n",
    "\n",
    "from sklearn.metrics.pairwise import linear_kernel\n",
    "from sklearn.metrics import plot_confusion_matrix, confusion_matrix, classification_report, accuracy_score, f1_score\n",
    "from sklearn.tree import DecisionTreeClassifier\n",
    "from sklearn.ensemble import RandomForestClassifier"
   ]
  },
  {
   "cell_type": "code",
   "execution_count": 2,
   "metadata": {},
   "outputs": [],
   "source": [
    "''' ******Data Creation******'''\n",
    "\n",
    "df = pd.read_csv(r'Desktop\\development.csv')\n",
    "\n",
    "X = df['text']\n",
    "y = df['sentiment']"
   ]
  },
  {
   "cell_type": "code",
   "execution_count": 3,
   "metadata": {},
   "outputs": [
    {
     "data": {
      "image/png": "[encoded data removed]",
      "text/plain": [
       "<Figure size 720x288 with 1 Axes>"
      ]
     },
     "metadata": {
      "needs_background": "light"
     },
     "output_type": "display_data"
    }
   ],
   "source": [
    "''' ******Data Exploration****** '''\n",
    "\n",
    "count = Counter(y)\n",
    "labels = ['Positive', 'Negative']\n",
    "fig, ax = plt.subplots(figsize=(10,4))\n",
    "ax.bar(count.keys(), count.values(), tick_label = labels)\n",
    "ax.set_xlabel('Sentiment')\n",
    "ax.set_ylabel('Number of Tweets')\n",
    "#fig.suptitle('Number of tweets in Category')\n",
    "for index, data in enumerate(sorted(count.values())):\n",
    "    plt.text(x = index - .1 , y = data + 2 , s=f\"{data}\" , fontdict=dict(fontsize=10), color='red')\n",
    "plt.show()"
   ]
  },
  {
   "cell_type": "code",
   "execution_count": 4,
   "metadata": {},
   "outputs": [],
   "source": [
    "''' ******Feature Engineering******'''\n",
    "\n",
    "# =============Text Cleaning=============\n",
    "stop_words = get_stop_words('english')\n",
    "#instantiation for stemming\n",
    "lemma = nltk.wordnet.WordNetLemmatizer()\n",
    "\n",
    "def tokenize(doc):\n",
    "    \"\"\"Compute the tokens for each document.\n",
    "\n",
    "    Input: a list of strings. Each item is a document to tokenize.\n",
    "    Output: a list of lists. Each item is a list containing the tokens of the relative document.\n",
    "    \"\"\"\n",
    "    tokens = []\n",
    "    for tweet in doc:\n",
    "        \n",
    "        tweet = html.unescape(tweet) # Escaping out HTML characters\n",
    "        tweet = tweet.replace('\"', '') # quoting\n",
    "        tweet = re.sub(r'[A-Za-z0-9]*@[A-Za-z]*\\.?[A-Za-z0-9]*', \"\", tweet) # removing email\n",
    "        tweet = re.sub(\"(.)\\\\1{2,}\", \"\\\\1\", tweet) # removing repeatetive letters in a word\n",
    "        tweet = \" \".join(tweet.split()) \n",
    "        tweet=tweet.lower() # convert to lower case\n",
    "        split_doc = [lemma.lemmatize(token) for token in tweet.split(\" \") if ((token not in stop_words) and (token not in string.punctuation))]\n",
    "        target = ' '.join(split_doc) # getting sentence from a list\n",
    "        \n",
    "        tokens.append(target) # adding to final list\n",
    "    return tokens\n",
    "\n",
    "X_token = tokenize(X)"
   ]
  },
  {
   "cell_type": "code",
   "execution_count": 9,
   "metadata": {},
   "outputs": [
    {
     "name": "stdout",
     "output_type": "stream",
     "text": [
      "number of null values in records:  0\n"
     ]
    }
   ],
   "source": [
    "# =============Null Check=============\n",
    "null_check = pd.Series(X_token)\n",
    "print('number of null values in records: ', len(null_check[null_check.isna()]))"
   ]
  },
  {
   "cell_type": "code",
   "execution_count": 10,
   "metadata": {},
   "outputs": [],
   "source": [
    "# =============Train-Test Split=============\n",
    "X_train, X_test, y_train, y_test = train_test_split(X_token, y, test_size=.2, stratify=y, shuffle=True, random_state=42)"
   ]
  },
  {
   "cell_type": "code",
   "execution_count": 13,
   "metadata": {},
   "outputs": [
    {
     "name": "stdout",
     "output_type": "stream",
     "text": [
      "(179995, 1000)\n",
      "(44999, 1000)\n",
      "['10', '100', '11', '12', '140', '15', '1st', '20', '2day', '2nd', '30', 'able', 'about', 'absolutely', 'account', 'actually', 'add', 'afternoon', 'again', 'age', 'ago', 'agree', 'ah', 'aha', 'ahh', 'aint', 'air', 'album', 'all', 'almost', 'alone', 'along', 'alot', 'already', 'alright', 'also', 'although', 'always', 'am', 'amazing', 'and', 'annoying', 'another', 'answer', 'anymore', 'anyone', 'anything', 'anyway', 'anyways', 'apparently']\n",
      "1000   0.6730699967419603\n",
      "(179995, 2000)\n",
      "(44999, 2000)\n",
      "['00', '10', '100', '11', '12', '13', '14', '140', '15', '16', '17', '18', '1st', '20', '200', '2009', '21', '24', '25', '2day', '2morrow', '2nd', '2nite', '30', '33', '3rd', '40', '45', '4th', '50', '500', '80', '90', '__', '_x', '_xo', 'able', 'about', 'absolutely', 'abt', 'access', 'account', 'ache', 'across', 'act', 'acting', 'action', 'actually', 'ad', 'adam']\n",
      "2000   0.6824465985837838\n",
      "(179995, 3000)\n",
      "(44999, 3000)\n",
      "['00', '09', '10', '100', '10th', '11', '12', '13', '14', '140', '15', '16', '17', '18', '18th', '19', '1st', '20', '200', '2009', '21', '21st', '22', '23', '24', '25', '26', '28', '2day', '2moro', '2morrow', '2nd', '2nite', '30', '300', '30am', '33', '35', '360', '3am', '3d', '3g', '3rd', '40', '45', '4am', '4officeautomation', '4th', '50', '500']\n",
      "3000   0.6851445058420871\n",
      "(179995, 4000)\n",
      "(44999, 4000)\n",
      "['00', '09', '10', '100', '10am', '10th', '11', '11am', '12', '13', '14', '140', '15', '15th', '16', '17', '17th', '18', '18th', '19', '19th', '1am', '1st', '20', '200', '2009', '2010', '20th', '21', '21st', '22', '23', '24', '25', '26', '27', '28', '29', '2am', '2day', '2moro', '2morrow', '2nd', '2night', '2nite', '2pm', '30', '300', '30am', '30pm']\n",
      "4000   0.6876925918492831\n",
      "(179995, 5000)\n",
      "(44999, 5000)\n",
      "['00', '06', '09', '10', '100', '101', '10am', '10pm', '10th', '11', '11am', '11pm', '12', '12th', '13', '13th', '14', '140', '14th', '15', '150', '15th', '16', '16th', '17', '17th', '18', '1864ml', '18th', '19', '19th', '1am', '1st', '20', '200', '2008', '2009', '2010', '20th', '21', '21st', '22', '23', '24', '25', '26', '27', '28', '29', '2am']\n",
      "5000   0.6881150562623302\n",
      "(179995, 6000)\n",
      "(44999, 6000)\n",
      "['00', '02', '05', '06', '07', '08', '09', '10', '100', '101', '10am', '10k', '10pm', '10th', '11', '11am', '11pm', '11th', '12', '12th', '13', '13th', '14', '140', '14th', '15', '150', '15th', '16', '16th', '17', '17th', '18', '1864ml', '18th', '19', '19th', '1am', '1cp2', '1pm', '1st', '20', '200', '2007', '2008', '2009', '2010', '20th', '21', '21st']\n",
      "6000   0.687857093639866\n",
      "(179995, 7000)\n",
      "(44999, 7000)\n",
      "['00', '01', '02', '05', '06', '07', '08', '09', '10', '100', '100th', '101', '102', '10am', '10k', '10pm', '10th', '11', '110', '11am', '11pm', '11th', '12', '120', '12th', '13', '13th', '14', '140', '140conf', '14th', '15', '150', '15th', '16', '16th', '17', '17th', '18', '182', '1864ml', '18th', '19', '19th', '1am', '1cp2', '1pm', '1st', '20', '200']\n",
      "7000   0.69001420588287\n",
      "(179995, 8000)\n",
      "(44999, 8000)\n",
      "['00', '00am', '01', '02', '04', '05', '06', '07', '08', '09', '10', '100', '100th', '101', '102', '10am', '10k', '10mins', '10pm', '10th', '11', '110', '11am', '11pm', '11th', '12', '120', '12th', '13', '13th', '14', '140', '140conf', '14th', '15', '150', '15mins', '15th', '16', '16th', '17', '17th', '18', '182', '1864ml', '18th', '19', '19th', '1am', '1cp2']\n",
      "8000   0.6901112694549483\n",
      "(179995, 9000)\n",
      "(44999, 9000)\n",
      "['00', '00am', '01', '02', '04', '05', '06', '07', '08', '09', '0th', '10', '100', '100th', '101', '102', '106', '10am', '10k', '10mins', '10pm', '10th', '11', '110', '11am', '11pm', '11th', '12', '120', '12th', '13', '130', '13th', '14', '140', '140conf', '14th', '15', '150', '15mins', '15th', '16', '16th', '17', '17th', '18', '182', '1864ml', '18th', '19']\n",
      "9000   0.6924961280832971\n",
      "(179995, 10000)\n",
      "(44999, 10000)\n",
      "['00', '00am', '01', '02', '04', '05', '06', '07', '08', '09', '0th', '10', '100', '100th', '101', '102', '103', '105', '106', '107', '10am', '10k', '10mins', '10pm', '10th', '11', '110', '11am', '11pm', '11th', '12', '120', '12pm', '12th', '13', '130', '13th', '14', '140', '140conf', '14th', '15', '150', '1500', '15mins', '15pm', '15th', '16', '16th', '17']\n",
      "10000   0.6889773943057516\n",
      "(179995, 11000)\n",
      "(44999, 11000)\n",
      "['00', '00am', '01', '02', '03', '04', '05', '06', '07', '08', '09', '0th', '10', '100', '100th', '101', '102', '103', '105', '106', '107', '10am', '10k', '10min', '10mins', '10pm', '10th', '11', '110', '1130', '11am', '11pm', '11th', '12', '120', '12am', '12hrs', '12pm', '12th', '13', '130', '13th', '14', '140', '140conf', '14th', '15', '150', '1500', '15am']\n",
      "11000   0.689647087041684\n"
     ]
    }
   ],
   "source": [
    "# =============Max Feature Tuning by Decision Tree=============\n",
    "mf = [i for i in range(1000,11001,1000)]\n",
    "f1_total = []\n",
    "for mx in mf:\n",
    "    tfidf = TfidfVectorizer(max_features=mx, lowercase=False, sublinear_tf=True)\n",
    "    features_train = tfidf.fit_transform(X_train)\n",
    "    labels_train = y_train\n",
    "    print(features_train.shape)\n",
    "\n",
    "    features_test = tfidf.transform(X_test)\n",
    "    labels_test = y_test\n",
    "    print(features_test.shape)\n",
    "    print(tfidf.get_feature_names()[:50])\n",
    "    clf = DecisionTreeClassifier()\n",
    "    clf.fit(features_train, labels_train)\n",
    "    y_pred = clf.predict(features_test)\n",
    "    f = f1_score(y_pred, labels_test, average='macro')\n",
    "    f1_total.append(f)\n",
    "    print(mx, ' ' ,f)"
   ]
  },
  {
   "cell_type": "code",
   "execution_count": 14,
   "metadata": {},
   "outputs": [
    {
     "data": {
      "text/plain": [
       "Text(0, 0.5, 'f1_score')"
      ]
     },
     "execution_count": 14,
     "metadata": {},
     "output_type": "execute_result"
    },
    {
     "data": {
      "image/png": "[encoded data removed]",
      "text/plain": [
       "<Figure size 432x288 with 1 Axes>"
      ]
     },
     "metadata": {
      "needs_background": "light"
     },
     "output_type": "display_data"
    }
   ],
   "source": [
    "plt.plot(np.array(mf), f1_total)\n",
    "plt.xlabel('max_feature')\n",
    "plt.ylabel('f1_score')"
   ]
  },
  {
   "cell_type": "code",
   "execution_count": 15,
   "metadata": {},
   "outputs": [
    {
     "name": "stdout",
     "output_type": "stream",
     "text": [
      "(179995, 8000)\n",
      "(44999, 8000)\n"
     ]
    }
   ],
   "source": [
    "# =============Text Representation/Feature Creation=============\n",
    "tfidf = TfidfVectorizer(max_features=8000, lowercase=False, sublinear_tf=True)\n",
    "features_train = tfidf.fit_transform(X_train)\n",
    "labels_train = y_train\n",
    "print(features_train.shape)\n",
    "\n",
    "features_test = tfidf.transform(X_test)\n",
    "labels_test = y_test\n",
    "print(features_test.shape)"
   ]
  },
  {
   "cell_type": "code",
   "execution_count": 16,
   "metadata": {},
   "outputs": [
    {
     "name": "stdout",
     "output_type": "stream",
     "text": [
      "[1.         0.         0.         0.         0.         0.\n",
      " 0.         0.         0.         0.10283705]\n"
     ]
    }
   ],
   "source": [
    "# =============Cosine Similarity=============\n",
    "cosine_similarities = linear_kernel(features_train[0:1], features_train).flatten()\n",
    "print(cosine_similarities[:10])"
   ]
  },
  {
   "cell_type": "code",
   "execution_count": 18,
   "metadata": {},
   "outputs": [],
   "source": [
    "''' ******Model Learning SVC******'''\n",
    "\n",
    "# =============Support Vector=============\n",
    "svc = svm.SVC(random_state = 8)\n",
    "# =============Cross-Validation for Hyperparameter Tuning=============\n",
    "# C\n",
    "C = [.1, 1]\n",
    "\n",
    "#gamma\n",
    "gamma = [.001, .01, .1, 1]\n",
    "\n",
    "# kernel for textual classification\n",
    "kernel = ['linear']\n",
    "\n",
    "#probability\n",
    "probability = [True]\n",
    "\n",
    "# Create the random grid\n",
    "param_grid = {'C': C,\n",
    "              'kernel': kernel,\n",
    "              'gamma': gamma,\n",
    "              'probability': probability\n",
    "             }"
   ]
  },
  {
   "cell_type": "code",
   "execution_count": 19,
   "metadata": {},
   "outputs": [
    {
     "name": "stdout",
     "output_type": "stream",
     "text": [
      "Fitting 3 folds for each of 8 candidates, totalling 24 fits\n"
     ]
    },
    {
     "data": {
      "text/plain": [
       "GridSearchCV(cv=ShuffleSplit(n_splits=3, random_state=8, test_size=0.33, train_size=None),\n",
       "             estimator=SVC(random_state=8),\n",
       "             param_grid={'C': [0.1, 1], 'gamma': [0.001, 0.01, 0.1, 1],\n",
       "                         'kernel': ['linear'], 'probability': [True]},\n",
       "             scoring='f1_macro', verbose=1)"
      ]
     },
     "execution_count": 19,
     "metadata": {},
     "output_type": "execute_result"
    }
   ],
   "source": [
    "# ============= Grid Search Cross-Validation=============\n",
    "# Manually create the splits in CV in order to be able to fix a random_state (GridSearchCV doesn't have that argument)\n",
    "cv_sets = ShuffleSplit(n_splits = 3, test_size = .33, random_state = 8)\n",
    "\n",
    "# Instantiate the grid search model\n",
    "grid_search = GridSearchCV(estimator=svc, \n",
    "                           param_grid=param_grid,\n",
    "                           scoring='f1_macro',\n",
    "                           cv=cv_sets,\n",
    "                           verbose=1)\n",
    "\n",
    "# Fit the grid search to the data\n",
    "grid_search.fit(features_train[:15000], labels_train[:15000])"
   ]
  },
  {
   "cell_type": "code",
   "execution_count": 1,
   "metadata": {},
   "outputs": [
    {
     "name": "stdout",
     "output_type": "stream",
     "text": [
      "The best hyperparameters from Grid Search are:\n"
     ]
    },
    {
     "ename": "NameError",
     "evalue": "name 'grid_search' is not defined",
     "output_type": "error",
     "traceback": [
      "\u001b[1;31m---------------------------------------------------------------------------\u001b[0m",
      "\u001b[1;31mNameError\u001b[0m                                 Traceback (most recent call last)",
      "\u001b[1;32m<ipython-input-1-e96e8edf2ce4>\u001b[0m in \u001b[0;36m<module>\u001b[1;34m\u001b[0m\n\u001b[0;32m      1\u001b[0m \u001b[0mprint\u001b[0m\u001b[1;33m(\u001b[0m\u001b[1;34m\"The best hyperparameters from Grid Search are:\"\u001b[0m\u001b[1;33m)\u001b[0m\u001b[1;33m\u001b[0m\u001b[1;33m\u001b[0m\u001b[0m\n\u001b[1;32m----> 2\u001b[1;33m \u001b[0mprint\u001b[0m\u001b[1;33m(\u001b[0m\u001b[0mgrid_search\u001b[0m\u001b[1;33m.\u001b[0m\u001b[0mbest_params_\u001b[0m\u001b[1;33m)\u001b[0m\u001b[1;33m\u001b[0m\u001b[1;33m\u001b[0m\u001b[0m\n\u001b[0m\u001b[0;32m      3\u001b[0m \u001b[0mprint\u001b[0m\u001b[1;33m(\u001b[0m\u001b[1;34m\"\"\u001b[0m\u001b[1;33m)\u001b[0m\u001b[1;33m\u001b[0m\u001b[1;33m\u001b[0m\u001b[0m\n\u001b[0;32m      4\u001b[0m \u001b[0mprint\u001b[0m\u001b[1;33m(\u001b[0m\u001b[1;34m\"The mean accuracy of a model with these hyperparameters is:\"\u001b[0m\u001b[1;33m)\u001b[0m\u001b[1;33m\u001b[0m\u001b[1;33m\u001b[0m\u001b[0m\n\u001b[0;32m      5\u001b[0m \u001b[0mprint\u001b[0m\u001b[1;33m(\u001b[0m\u001b[0mgrid_search\u001b[0m\u001b[1;33m.\u001b[0m\u001b[0mbest_score_\u001b[0m\u001b[1;33m)\u001b[0m\u001b[1;33m\u001b[0m\u001b[1;33m\u001b[0m\u001b[0m\n",
      "\u001b[1;31mNameError\u001b[0m: name 'grid_search' is not defined"
     ]
    }
   ],
   "source": [
    "print(\"The best hyperparameters from Grid Search are:\")\n",
    "print(grid_search.best_params_)\n",
    "print(\"\")\n",
    "print(\"The mean accuracy of a model with these hyperparameters is:\")\n",
    "print(grid_search.best_score_)"
   ]
  },
  {
   "cell_type": "code",
   "execution_count": 21,
   "metadata": {},
   "outputs": [
    {
     "data": {
      "text/plain": [
       "SVC(C=1, gamma=0.001, kernel='linear', probability=True, random_state=8)"
      ]
     },
     "execution_count": 21,
     "metadata": {},
     "output_type": "execute_result"
    }
   ],
   "source": [
    "# =============Best Model=============\n",
    "best_svc = grid_search.best_estimator_\n",
    "best_svc"
   ]
  },
  {
   "cell_type": "code",
   "execution_count": 22,
   "metadata": {},
   "outputs": [],
   "source": [
    "# =============Model Fitting and Performance=============\n",
    "best_svc.fit(features_train[:15000], labels_train[:15000])\n",
    "svc_pred = best_svc.predict(features_test)"
   ]
  },
  {
   "cell_type": "code",
   "execution_count": 23,
   "metadata": {},
   "outputs": [
    {
     "name": "stdout",
     "output_type": "stream",
     "text": [
      "The training accuracy is: \n",
      "0.7483152309786383\n"
     ]
    }
   ],
   "source": [
    "# =============Training accuracy=============\n",
    "print(\"The training accuracy is: \")\n",
    "print(accuracy_score(labels_train, best_svc.predict(features_train)))"
   ]
  },
  {
   "cell_type": "code",
   "execution_count": 24,
   "metadata": {},
   "outputs": [
    {
     "name": "stdout",
     "output_type": "stream",
     "text": [
      "The test accuracy is: \n",
      "0.7396831040689793\n"
     ]
    }
   ],
   "source": [
    "# =============Test accuracy=============\n",
    "print(\"The test accuracy is: \")\n",
    "print(accuracy_score(labels_test, svc_pred))"
   ]
  },
  {
   "cell_type": "code",
   "execution_count": null,
   "metadata": {},
   "outputs": [],
   "source": []
  }
 ],
 "metadata": {
  "kernelspec": {
   "display_name": "Python 3",
   "language": "python",
   "name": "python3"
  },
  "language_info": {
   "codemirror_mode": {
    "name": "ipython",
    "version": 3
   },
   "file_extension": ".py",
   "mimetype": "text/x-python",
   "name": "python",
   "nbconvert_exporter": "python",
   "pygments_lexer": "ipython3",
   "version": "3.8.5"
  }
 },
 "nbformat": 4,
 "nbformat_minor": 5
}
