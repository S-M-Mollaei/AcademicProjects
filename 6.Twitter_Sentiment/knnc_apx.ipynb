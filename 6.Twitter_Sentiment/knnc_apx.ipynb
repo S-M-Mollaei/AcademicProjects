{
 "cells": [
  {
   "cell_type": "code",
   "execution_count": 2,
   "metadata": {},
   "outputs": [],
   "source": [
    "import pandas as pd\n",
    "import numpy as np\n",
    "import matplotlib.pyplot as plt\n",
    "from collections import Counter\n",
    "from sklearn.feature_selection import chi2\n",
    "import seaborn as sns\n",
    "from pprint import pprint\n",
    "import time\n",
    "from timeit import default_timer as timer\n",
    "\n",
    "import string\n",
    "import re\n",
    "from stop_words import get_stop_words\n",
    "import nltk, html\n",
    "\n",
    "from sklearn import svm\n",
    "from sklearn.model_selection import RandomizedSearchCV, train_test_split, ParameterGrid, KFold, cross_val_score, GridSearchCV, ShuffleSplit\n",
    "from sklearn.feature_extraction.text import TfidfVectorizer\n",
    "from sklearn.neighbors import KNeighborsClassifier\n",
    "\n",
    "from sklearn.metrics.pairwise import linear_kernel\n",
    "from sklearn.metrics import plot_confusion_matrix, confusion_matrix, classification_report, accuracy_score, f1_score\n",
    "from sklearn.tree import DecisionTreeClassifier\n",
    "from sklearn.ensemble import RandomForestClassifier\n"
   ]
  },
  {
   "cell_type": "code",
   "execution_count": 3,
   "metadata": {},
   "outputs": [],
   "source": [
    "''' ******Data Creation******'''\n",
    "\n",
    "df = pd.read_csv(r'Desktop\\development.csv')\n",
    "\n",
    "X = df['text']\n",
    "y = df['sentiment']"
   ]
  },
  {
   "cell_type": "code",
   "execution_count": 4,
   "metadata": {},
   "outputs": [
    {
     "data": {
      "image/png": "[encoded data removed]",
      "text/plain": [
       "<Figure size 720x288 with 1 Axes>"
      ]
     },
     "metadata": {
      "needs_background": "light"
     },
     "output_type": "display_data"
    }
   ],
   "source": [
    "''' ******Data Exploration****** '''\n",
    "\n",
    "count = Counter(y)\n",
    "labels = ['Positive', 'Negative']\n",
    "fig, ax = plt.subplots(figsize=(10,4))\n",
    "ax.bar(count.keys(), count.values(), tick_label = labels)\n",
    "ax.set_xlabel('Sentiment')\n",
    "ax.set_ylabel('Number of Tweets')\n",
    "#fig.suptitle('Number of tweets in Category')\n",
    "for index, data in enumerate(sorted(count.values())):\n",
    "    plt.text(x = index - .1 , y = data + 2 , s=f\"{data}\" , fontdict=dict(fontsize=10), color='red')\n",
    "plt.show()"
   ]
  },
  {
   "cell_type": "code",
   "execution_count": 5,
   "metadata": {},
   "outputs": [],
   "source": [
    "''' ******Feature Engineering******'''\n",
    "\n",
    "# =============Text Cleaning=============\n",
    "stop_words = get_stop_words('english')\n",
    "#instantiation for stemming\n",
    "lemma = nltk.wordnet.WordNetLemmatizer()\n",
    "\n",
    "def tokenize(doc):\n",
    "    \"\"\"Compute the tokens for each document.\n",
    "\n",
    "    Input: a list of strings. Each item is a document to tokenize.\n",
    "    Output: a list of lists. Each item is a list containing the tokens of the relative document.\n",
    "    \"\"\"\n",
    "    tokens = []\n",
    "    for tweet in doc:\n",
    "        \n",
    "        tweet = html.unescape(tweet) # Escaping out HTML characters\n",
    "        tweet = tweet.replace('\"', '') # quoting\n",
    "        tweet = re.sub(r'[A-Za-z0-9]*@[A-Za-z]*\\.?[A-Za-z0-9]*', \"\", tweet) # removing email\n",
    "        tweet = re.sub(\"(.)\\\\1{2,}\", \"\\\\1\", tweet) # removing repeatetive letters in a word\n",
    "        tweet = \" \".join(tweet.split()) \n",
    "        tweet=tweet.lower() # convert to lower case\n",
    "        split_doc = [lemma.lemmatize(token) for token in tweet.split(\" \") if ((token not in stop_words) and (token not in string.punctuation))]\n",
    "        target = ' '.join(split_doc) # getting sentence from a list\n",
    "        \n",
    "        tokens.append(target) # adding to final list\n",
    "    return tokens\n",
    "\n",
    "X_token = tokenize(X)"
   ]
  },
  {
   "cell_type": "code",
   "execution_count": 6,
   "metadata": {},
   "outputs": [
    {
     "name": "stdout",
     "output_type": "stream",
     "text": [
      "number of null values in records:  0\n"
     ]
    }
   ],
   "source": [
    "# =============Null Check=============\n",
    "null_check = pd.Series(X_token)\n",
    "print('number of null values in records: ', len(null_check[null_check.isna()]))"
   ]
  },
  {
   "cell_type": "code",
   "execution_count": 7,
   "metadata": {},
   "outputs": [],
   "source": [
    "# =============Train-Test Split=============\n",
    "X_train, X_test, y_train, y_test = train_test_split(X_token, y, test_size=.2, stratify=y, shuffle=True, random_state=42)"
   ]
  },
  {
   "cell_type": "code",
   "execution_count": 8,
   "metadata": {},
   "outputs": [
    {
     "name": "stdout",
     "output_type": "stream",
     "text": [
      "(179995, 8000)\n",
      "(44999, 8000)\n"
     ]
    }
   ],
   "source": [
    "# =============Text Representation/Feature Creation=============\n",
    "tfidf = TfidfVectorizer(max_features=8000, lowercase=False, sublinear_tf=True)\n",
    "features_train = tfidf.fit_transform(X_train)\n",
    "labels_train = y_train\n",
    "print(features_train.shape)\n",
    "\n",
    "features_test = tfidf.transform(X_test)\n",
    "labels_test = y_test\n",
    "print(features_test.shape)"
   ]
  },
  {
   "cell_type": "code",
   "execution_count": 9,
   "metadata": {},
   "outputs": [
    {
     "name": "stdout",
     "output_type": "stream",
     "text": [
      "[1.         0.         0.         0.         0.         0.\n",
      " 0.         0.         0.         0.10283705]\n"
     ]
    }
   ],
   "source": [
    "# =============Cosine Similarity=============\n",
    "cosine_similarities = linear_kernel(features_train[0:1], features_train).flatten()\n",
    "print(cosine_similarities[:10])"
   ]
  },
  {
   "cell_type": "code",
   "execution_count": 10,
   "metadata": {},
   "outputs": [],
   "source": [
    "''' ******Model Learning KNN******'''\n",
    "\n",
    "# =============KNN=============\n",
    "# Create a base model\n",
    "knnc = KNeighborsClassifier()\n",
    "# =============Cross-Validation for Hyperparameter Tuning=============\n",
    "# Create the parameter grid \n",
    "n_neighbors = [int(x) for x in np.linspace(start = 1, stop = 20, num = 10)]\n",
    "\n",
    "param_grid = {'n_neighbors': n_neighbors}"
   ]
  },
  {
   "cell_type": "code",
   "execution_count": 13,
   "metadata": {},
   "outputs": [
    {
     "name": "stdout",
     "output_type": "stream",
     "text": [
      "Fitting 3 folds for each of 10 candidates, totalling 30 fits\n"
     ]
    },
    {
     "data": {
      "text/plain": [
       "GridSearchCV(cv=ShuffleSplit(n_splits=3, random_state=8, test_size=0.33, train_size=None),\n",
       "             estimator=KNeighborsClassifier(),\n",
       "             param_grid={'n_neighbors': [1, 3, 5, 7, 9, 11, 13, 15, 17, 20]},\n",
       "             scoring='f1_macro', verbose=1)"
      ]
     },
     "execution_count": 13,
     "metadata": {},
     "output_type": "execute_result"
    }
   ],
   "source": [
    "# ============= Grid Search Cross-Validation=============\n",
    "\n",
    "# Manually create the splits in CV in order to be able to fix a random_state (GridSearchCV doesn't have that argument)\n",
    "cv_sets = ShuffleSplit(n_splits = 3, test_size = .33, random_state = 8)\n",
    "\n",
    "# Instantiate the grid search model\n",
    "grid_search = GridSearchCV(estimator=knnc, \n",
    "                           param_grid=param_grid,\n",
    "                           scoring='f1_macro',\n",
    "                           cv=cv_sets,\n",
    "                           verbose=1)\n",
    "\n",
    "# Fit the grid search to the data\n",
    "grid_search.fit(features_train[:30000], labels_train[:30000])"
   ]
  },
  {
   "cell_type": "code",
   "execution_count": 14,
   "metadata": {},
   "outputs": [
    {
     "name": "stdout",
     "output_type": "stream",
     "text": [
      "The best hyperparameters from Grid Search are:\n",
      "{'n_neighbors': 5}\n",
      "\n",
      "The mean accuracy of a model with these hyperparameters is:\n",
      "0.5488821272595015\n"
     ]
    }
   ],
   "source": [
    "print(\"The best hyperparameters from Grid Search are:\")\n",
    "print(grid_search.best_params_)\n",
    "print(\"\")\n",
    "print(\"The mean accuracy of a model with these hyperparameters is:\")\n",
    "print(grid_search.best_score_)"
   ]
  },
  {
   "cell_type": "code",
   "execution_count": 20,
   "metadata": {},
   "outputs": [
    {
     "data": {
      "text/plain": [
       "KNeighborsClassifier()"
      ]
     },
     "execution_count": 20,
     "metadata": {},
     "output_type": "execute_result"
    }
   ],
   "source": [
    "# =============Best Model=============\n",
    "best_knnc = grid_search.best_estimator_\n",
    "best_knnc = KNeighborsClassifier(n_neighbors = 5)\n",
    "best_knnc"
   ]
  },
  {
   "cell_type": "code",
   "execution_count": 16,
   "metadata": {},
   "outputs": [
    {
     "data": {
      "text/plain": [
       "'testing the whole data by founded hyperparameters'"
      ]
     },
     "execution_count": 16,
     "metadata": {},
     "output_type": "execute_result"
    }
   ],
   "source": [
    "'''testing the whole data by founded hyperparameters'''"
   ]
  },
  {
   "cell_type": "code",
   "execution_count": 21,
   "metadata": {},
   "outputs": [
    {
     "name": "stdout",
     "output_type": "stream",
     "text": [
      "time is:  146.41753190000009\n"
     ]
    }
   ],
   "source": [
    "# =============Model Fitting and Performance=============\n",
    "best_knnc.fit(features_train, labels_train)\n",
    "\n",
    "start = timer()\n",
    "knnc_pred = best_knnc.predict(features_test)\n",
    "end = timer()\n",
    "print('time is: ',end-start)"
   ]
  },
  {
   "cell_type": "code",
   "execution_count": 23,
   "metadata": {},
   "outputs": [
    {
     "name": "stdout",
     "output_type": "stream",
     "text": [
      "The test accuracy is: \n",
      "0.6131573474099439\n"
     ]
    }
   ],
   "source": [
    "# =============Test Accuracy=============\n",
    "print(\"The test accuracy is: \")\n",
    "print(f1_score(labels_test, knnc_pred, average='macro'))"
   ]
  },
  {
   "cell_type": "code",
   "execution_count": 25,
   "metadata": {},
   "outputs": [
    {
     "name": "stdout",
     "output_type": "stream",
     "text": [
      "Classification report\n",
      "              precision    recall  f1-score   support\n",
      "\n",
      "           0       0.58      0.47      0.52     18967\n",
      "           1       0.66      0.76      0.71     26032\n",
      "\n",
      "    accuracy                           0.64     44999\n",
      "   macro avg       0.62      0.61      0.61     44999\n",
      "weighted avg       0.63      0.64      0.63     44999\n",
      "\n"
     ]
    }
   ],
   "source": [
    "# =============Classification Report=============\n",
    "print(\"Classification report\")\n",
    "print(classification_report(labels_test,knnc_pred))"
   ]
  },
  {
   "cell_type": "code",
   "execution_count": 26,
   "metadata": {},
   "outputs": [
    {
     "data": {
      "image/png": "[encoded data removed]",
      "text/plain": [
       "<Figure size 432x288 with 2 Axes>"
      ]
     },
     "metadata": {
      "needs_background": "light"
     },
     "output_type": "display_data"
    }
   ],
   "source": [
    "# =============Confusion Matrix=============\n",
    "conf_matrix = confusion_matrix(labels_test, knnc_pred)\n",
    "sns.heatmap(conf_matrix, \n",
    "            annot=True,\n",
    "            cmap=\"Blues\")\n",
    "plt.ylabel('Predicted')\n",
    "plt.xlabel('Actual')\n",
    "plt.title('Confusion matrix')\n",
    "plt.show()"
   ]
  },
  {
   "cell_type": "code",
   "execution_count": null,
   "metadata": {},
   "outputs": [],
   "source": []
  }
 ],
 "metadata": {
  "kernelspec": {
   "display_name": "Python 3",
   "language": "python",
   "name": "python3"
  },
  "language_info": {
   "codemirror_mode": {
    "name": "ipython",
    "version": 3
   },
   "file_extension": ".py",
   "mimetype": "text/x-python",
   "name": "python",
   "nbconvert_exporter": "python",
   "pygments_lexer": "ipython3",
   "version": "3.8.5"
  }
 },
 "nbformat": 4,
 "nbformat_minor": 5
}
