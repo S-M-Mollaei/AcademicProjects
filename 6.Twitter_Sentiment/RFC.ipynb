{
 "cells": [
  {
   "cell_type": "code",
   "execution_count": 2,
   "metadata": {},
   "outputs": [],
   "source": [
    "import pandas as pd\n",
    "import numpy as np\n",
    "import matplotlib.pyplot as plt\n",
    "from collections import Counter\n",
    "from timeit import timeit\n",
    "\n",
    "\n",
    "import string\n",
    "import re\n",
    "from stop_words import get_stop_words\n",
    "import nltk, html\n",
    "\n",
    "from sklearn import svm\n",
    "from sklearn.model_selection import RandomizedSearchCV, train_test_split, ParameterGrid, KFold, cross_val_score, GridSearchCV, ShuffleSplit\n",
    "from sklearn.feature_extraction.text import TfidfVectorizer\n",
    "\n",
    "from sklearn.metrics.pairwise import linear_kernel\n",
    "from sklearn.metrics import classification_report, accuracy_score, f1_score, confusion_matrix, plot_confusion_matrix\n",
    "from sklearn.tree import DecisionTreeClassifier\n",
    "from sklearn.ensemble import RandomForestClassifier"
   ]
  },
  {
   "cell_type": "code",
   "execution_count": 3,
   "metadata": {},
   "outputs": [],
   "source": [
    "''' ******Data Creation******'''\n",
    "\n",
    "df = pd.read_csv('development.csv')\n",
    "\n",
    "X = df['text']\n",
    "y = df['sentiment']"
   ]
  },
  {
   "cell_type": "code",
   "execution_count": 4,
   "metadata": {},
   "outputs": [
    {
     "data": {
      "image/png": "[encoded data removed]",
      "text/plain": [
       "<Figure size 720x288 with 1 Axes>"
      ]
     },
     "metadata": {
      "needs_background": "light"
     },
     "output_type": "display_data"
    }
   ],
   "source": [
    "''' ******Data Exploration****** '''\n",
    "\n",
    "count = Counter(y)\n",
    "labels = ['Positive', 'Negative']\n",
    "fig, ax = plt.subplots(figsize=(10,4))\n",
    "ax.bar(count.keys(), count.values(), tick_label = labels)\n",
    "ax.set_xlabel('Sentiment')\n",
    "ax.set_ylabel('Number of Tweets')\n",
    "#fig.suptitle('Number of tweets in Category')\n",
    "for index, data in enumerate(sorted(count.values())):\n",
    "    plt.text(x = index - .1 , y = data + 2 , s=f\"{data}\" , fontdict=dict(fontsize=10), color='red')\n",
    "plt.show()"
   ]
  },
  {
   "cell_type": "code",
   "execution_count": 5,
   "metadata": {},
   "outputs": [],
   "source": [
    "# =============Text Cleaning=============\n",
    "stop_words = get_stop_words('english')\n",
    "#instantiation for stemming\n",
    "lemma = nltk.wordnet.WordNetLemmatizer()\n",
    "\n",
    "def tokenize(doc):\n",
    "    \"\"\"Compute the tokens for each document.\n",
    "\n",
    "    Input: a list of strings. Each item is a document to tokenize.\n",
    "    Output: a list of lists. Each item is a list containing the tokens of the relative document.\n",
    "    \"\"\"\n",
    "    tokens = []\n",
    "    for tweet in doc:\n",
    "        \n",
    "        tweet = html.unescape(tweet) # Escaping out HTML characters\n",
    "        tweet = tweet.replace('\"', '') # quoting\n",
    "        tweet = re.sub(r'[A-Za-z0-9]*@[A-Za-z]*\\.?[A-Za-z0-9]*', \"\", tweet) # removing email\n",
    "        tweet = re.sub(\"(.)\\\\1{2,}\", \"\\\\1\", tweet) # removing repeatetive letters in a word\n",
    "        tweet = \" \".join(tweet.split()) \n",
    "        tweet=tweet.lower() # convert to lower case\n",
    "        split_doc = [lemma.lemmatize(token) for token in tweet.split(\" \") if ((token not in stop_words) and (token not in string.punctuation))]\n",
    "        target = ' '.join(split_doc) # getting sentence from a list\n",
    "        \n",
    "        tokens.append(target) # adding to final list\n",
    "    return tokens\n",
    "\n",
    "X_token = tokenize(X)"
   ]
  },
  {
   "cell_type": "code",
   "execution_count": 6,
   "metadata": {},
   "outputs": [
    {
     "name": "stdout",
     "output_type": "stream",
     "text": [
      "(179995, 8000)\n",
      "(44999, 8000)\n",
      "['00', '00am', '01', '02', '04', '05', '06', '07', '08', '09', '10', '100', '100th', '101', '102', '10am', '10k', '10mins', '10pm', '10th', '11', '110', '11am', '11pm', '11th', '12', '120', '12th', '13', '13th', '14', '140', '140conf', '14th', '15', '150', '15mins', '15th', '16', '16th', '17', '17th', '18', '182', '1864ml', '18th', '19', '19th', '1am', '1cp2']\n",
      "[1. 0. 0. ... 0. 0. 0.]\n"
     ]
    }
   ],
   "source": [
    "# =============Train-Test Split=============\n",
    "X_train, X_test, y_train, y_test = train_test_split(X_token, y, test_size=.2, stratify=y, shuffle=True, random_state=42)\n",
    "tfidf = TfidfVectorizer(max_features=8000, lowercase=False, sublinear_tf=True)\n",
    "features_train = tfidf.fit_transform(X_train)\n",
    "labels_train = y_train\n",
    "print(features_train.shape)\n",
    "\n",
    "features_test = tfidf.transform(X_test)\n",
    "labels_test = y_test\n",
    "print(features_test.shape)\n",
    "print(tfidf.get_feature_names()[:50])\n",
    "\n",
    "# =============Cosine Similarity=============\n",
    "cosine_similarities = linear_kernel(features_train[0:1], features_train).flatten()\n",
    "print(cosine_similarities)\n"
   ]
  },
  {
   "cell_type": "code",
   "execution_count": null,
   "metadata": {
    "scrolled": true
   },
   "outputs": [
    {
     "name": "stdout",
     "output_type": "stream",
     "text": [
      "Fitting 3 folds for each of 5 candidates, totalling 15 fits\n"
     ]
    },
    {
     "name": "stderr",
     "output_type": "stream",
     "text": [
      "[Parallel(n_jobs=-1)]: Using backend LokyBackend with 4 concurrent workers.\n"
     ]
    }
   ],
   "source": [
    "''' ******Model Learning******'''\n",
    "# =============Random Forest=============\n",
    "clf = RandomForestClassifier(random_state = 8)\n",
    "\n",
    "# =============Cross-Validation for Hyperparameter Tuning=============\n",
    "n_estimators = [int(x) for x in np.linspace(start = 200, stop = 1000, num = 5)]\n",
    "max_features = ['sqrt']\n",
    "\n",
    "# Create the random grid\n",
    "param_grid = {'n_estimators': n_estimators,\n",
    "              'max_features': max_features,\n",
    "             }\n",
    "\n",
    "# =============Grid Search Cross Validation=============\n",
    "# Manually create the splits in CV in order to be able to fix a random_state (GridSearchCV doesn't have that argument)\n",
    "cv_sets = ShuffleSplit(n_splits = 3, test_size = .33, random_state = 8)\n",
    "\n",
    "# Instantiate the grid search model\n",
    "grid_search = GridSearchCV(estimator=clf,\n",
    "                            n_jobs=-1,\n",
    "                            param_grid=param_grid,\n",
    "                            scoring='f1_macro',\n",
    "                            cv=cv_sets,\n",
    "                            verbose=1)\n",
    "\n",
    "# Fit the grid search to the data\n",
    "grid_search.fit(features_train[:15000], labels_train[:15000])\n",
    "\n",
    "\n"
   ]
  },
  {
   "cell_type": "code",
   "execution_count": 19,
   "metadata": {
    "scrolled": true
   },
   "outputs": [
    {
     "name": "stdout",
     "output_type": "stream",
     "text": [
      "The best hyperparameters from Grid Search are:\n",
      "{'max_features': 'sqrt', 'n_estimators': 280}\n",
      "\n",
      "The mean accuracy of a model with these hyperparameters is:\n",
      "0.744680739515534\n"
     ]
    }
   ],
   "source": [
    "print(\"The best hyperparameters from Grid Search are:\")\n",
    "print(grid_search.best_params_)\n",
    "print(\"\")\n",
    "print(\"The mean accuracy of a model with these hyperparameters is:\")\n",
    "print(grid_search.best_score_)"
   ]
  },
  {
   "cell_type": "code",
   "execution_count": 20,
   "metadata": {
    "scrolled": false
   },
   "outputs": [
    {
     "name": "stdout",
     "output_type": "stream",
     "text": [
      "{'mean_fit_time': array([2360.86807887, 2520.43299278, 2201.19092607, 1356.3961548 ]), 'std_fit_time': array([  3.63665939,  11.13388931, 622.37581637,  46.09104324]), 'mean_score_time': array([30.16342672, 32.88354715, 27.97769547, 24.27199864]), 'std_score_time': array([0.39407386, 0.37284739, 2.00880503, 1.24763324]), 'param_max_features': masked_array(data=['sqrt', 'sqrt', 'sqrt', 'sqrt'],\n",
      "             mask=[False, False, False, False],\n",
      "       fill_value='?',\n",
      "            dtype=object), 'param_n_estimators': masked_array(data=[280, 300, 320, 340],\n",
      "             mask=[False, False, False, False],\n",
      "       fill_value='?',\n",
      "            dtype=object), 'params': [{'max_features': 'sqrt', 'n_estimators': 280}, {'max_features': 'sqrt', 'n_estimators': 300}, {'max_features': 'sqrt', 'n_estimators': 320}, {'max_features': 'sqrt', 'n_estimators': 340}], 'split0_test_score': array([0.74577184, 0.74596466, 0.7462847 , 0.7463163 ]), 'split1_test_score': array([0.74513031, 0.74476138, 0.7446797 , 0.74504783]), 'split2_test_score': array([0.74314007, 0.74281367, 0.7424658 , 0.7426191 ]), 'mean_test_score': array([0.74468074, 0.74451324, 0.74447673, 0.74466108]), 'std_test_score': array([0.00112046, 0.0012983 , 0.00156565, 0.00153395]), 'rank_test_score': array([1, 3, 4, 2])}\n"
     ]
    }
   ],
   "source": [
    "print(grid_search.cv_results_)"
   ]
  },
  {
   "cell_type": "code",
   "execution_count": 21,
   "metadata": {},
   "outputs": [],
   "source": [
    "# =============Best Model=============\n",
    "best_rfc = grid_search.best_estimator_"
   ]
  },
  {
   "cell_type": "code",
   "execution_count": 22,
   "metadata": {},
   "outputs": [
    {
     "data": {
      "text/plain": [
       "RandomForestClassifier(max_features='sqrt', n_estimators=280, random_state=8)"
      ]
     },
     "execution_count": 22,
     "metadata": {},
     "output_type": "execute_result"
    }
   ],
   "source": [
    "best_rfc"
   ]
  },
  {
   "cell_type": "code",
   "execution_count": 25,
   "metadata": {},
   "outputs": [],
   "source": [
    "# =============Model Fitting and Performance=============\n",
    "best_rfc.fit(features_train, labels_train)\n",
    "rfc_pred = best_rfc.predict(features_test)"
   ]
  },
  {
   "cell_type": "code",
   "execution_count": 26,
   "metadata": {},
   "outputs": [
    {
     "data": {
      "text/plain": [
       "array([0, 0, 1, ..., 1, 0, 0], dtype=int64)"
      ]
     },
     "execution_count": 26,
     "metadata": {},
     "output_type": "execute_result"
    }
   ],
   "source": [
    "rfc_pred"
   ]
  },
  {
   "cell_type": "code",
   "execution_count": 28,
   "metadata": {},
   "outputs": [
    {
     "name": "stdout",
     "output_type": "stream",
     "text": [
      "The training accuracy is: \n",
      "0.9865870274443341\n"
     ]
    }
   ],
   "source": [
    "# =============Training Accuracy=============\n",
    "print(\"The training accuracy is: \")\n",
    "print(f1_score(labels_train, best_rfc.predict(features_train), average='macro'))"
   ]
  },
  {
   "cell_type": "code",
   "execution_count": 30,
   "metadata": {},
   "outputs": [
    {
     "name": "stdout",
     "output_type": "stream",
     "text": [
      "The test accuracy is: \n",
      "0.7470915319201987\n"
     ]
    }
   ],
   "source": [
    "# =============Test Accuracy=============\n",
    "print(\"The test accuracy is: \")\n",
    "print(f1_score(labels_test, rfc_pred, average='macro'))"
   ]
  },
  {
   "cell_type": "code",
   "execution_count": 31,
   "metadata": {},
   "outputs": [
    {
     "name": "stdout",
     "output_type": "stream",
     "text": [
      "Classification report\n",
      "              precision    recall  f1-score   support\n",
      "\n",
      "           0       0.73      0.67      0.70     18967\n",
      "           1       0.77      0.82      0.80     26032\n",
      "\n",
      "    accuracy                           0.76     44999\n",
      "   macro avg       0.75      0.74      0.75     44999\n",
      "weighted avg       0.75      0.76      0.75     44999\n",
      "\n"
     ]
    }
   ],
   "source": [
    "# =============Classification Report=============\n",
    "print(\"Classification report\")\n",
    "print(classification_report(labels_test,rfc_pred))"
   ]
  },
  {
   "cell_type": "code",
   "execution_count": 53,
   "metadata": {},
   "outputs": [
    {
     "data": {
      "text/plain": [
       "array([[12736,  6231],\n",
       "       [ 4738, 21294]], dtype=int64)"
      ]
     },
     "execution_count": 53,
     "metadata": {},
     "output_type": "execute_result"
    }
   ],
   "source": [
    "# =============Confusion Matrix=============\n",
    "conf_matrix = confusion_matrix(labels_test, rfc_pred)\n",
    "conf_matrix"
   ]
  },
  {
   "cell_type": "code",
   "execution_count": null,
   "metadata": {},
   "outputs": [],
   "source": []
  }
 ],
 "metadata": {
  "kernelspec": {
   "display_name": "Python 3",
   "language": "python",
   "name": "python3"
  },
  "language_info": {
   "codemirror_mode": {
    "name": "ipython",
    "version": 3
   },
   "file_extension": ".py",
   "mimetype": "text/x-python",
   "name": "python",
   "nbconvert_exporter": "python",
   "pygments_lexer": "ipython3",
   "version": "3.8.5"
  }
 },
 "nbformat": 4,
 "nbformat_minor": 5
}
