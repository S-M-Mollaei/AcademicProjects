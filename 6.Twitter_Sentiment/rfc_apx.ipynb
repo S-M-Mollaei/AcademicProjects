{
 "cells": [
  {
   "cell_type": "code",
   "execution_count": 1,
   "metadata": {},
   "outputs": [],
   "source": [
    "import pandas as pd\n",
    "import numpy as np\n",
    "import matplotlib.pyplot as plt\n",
    "from collections import Counter\n",
    "from sklearn.feature_selection import chi2\n",
    "import seaborn as sns\n",
    "from pprint import pprint\n",
    "\n",
    "import string\n",
    "import re\n",
    "from stop_words import get_stop_words\n",
    "import nltk, html\n",
    "\n",
    "from sklearn import svm\n",
    "from sklearn.model_selection import RandomizedSearchCV, train_test_split, ParameterGrid, KFold, cross_val_score, GridSearchCV, ShuffleSplit\n",
    "from sklearn.feature_extraction.text import TfidfVectorizer\n",
    "\n",
    "from sklearn.metrics.pairwise import linear_kernel\n",
    "from sklearn.metrics import plot_confusion_matrix, confusion_matrix, classification_report, accuracy_score, f1_score\n",
    "from sklearn.tree import DecisionTreeClassifier\n",
    "from sklearn.ensemble import RandomForestClassifier"
   ]
  },
  {
   "cell_type": "code",
   "execution_count": 2,
   "metadata": {},
   "outputs": [],
   "source": [
    "''' ******Data Creation******'''\n",
    "\n",
    "df = pd.read_csv(r'Desktop\\development.csv')\n",
    "\n",
    "X = df['text']\n",
    "y = df['sentiment']"
   ]
  },
  {
   "cell_type": "code",
   "execution_count": 3,
   "metadata": {},
   "outputs": [
    {
     "data": {
      "image/png": "[encoded data removed]",
      "text/plain": [
       "<Figure size 720x288 with 1 Axes>"
      ]
     },
     "metadata": {
      "needs_background": "light"
     },
     "output_type": "display_data"
    }
   ],
   "source": [
    "''' ******Data Exploration****** '''\n",
    "\n",
    "count = Counter(y)\n",
    "labels = ['Positive', 'Negative']\n",
    "fig, ax = plt.subplots(figsize=(10,4))\n",
    "ax.bar(count.keys(), count.values(), tick_label = labels)\n",
    "ax.set_xlabel('Sentiment')\n",
    "ax.set_ylabel('Number of Tweets')\n",
    "#fig.suptitle('Number of tweets in Category')\n",
    "for index, data in enumerate(sorted(count.values())):\n",
    "    plt.text(x = index - .1 , y = data + 2 , s=f\"{data}\" , fontdict=dict(fontsize=10), color='red')\n",
    "plt.show()"
   ]
  },
  {
   "cell_type": "code",
   "execution_count": 4,
   "metadata": {},
   "outputs": [],
   "source": [
    "''' ******Feature Engineering******'''\n",
    "\n",
    "# =============Text Cleaning=============\n",
    "stop_words = get_stop_words('english')\n",
    "#instantiation for stemming\n",
    "lemma = nltk.wordnet.WordNetLemmatizer()\n",
    "\n",
    "def tokenize(doc):\n",
    "    \"\"\"Compute the tokens for each document.\n",
    "\n",
    "    Input: a list of strings. Each item is a document to tokenize.\n",
    "    Output: a list of lists. Each item is a list containing the tokens of the relative document.\n",
    "    \"\"\"\n",
    "    tokens = []\n",
    "    for tweet in doc:\n",
    "        \n",
    "        tweet = html.unescape(tweet) # Escaping out HTML characters\n",
    "        tweet = tweet.replace('\"', '') # quoting\n",
    "        tweet = re.sub(r'[A-Za-z0-9]*@[A-Za-z]*\\.?[A-Za-z0-9]*', \"\", tweet) # removing email\n",
    "        tweet = re.sub(\"(.)\\\\1{2,}\", \"\\\\1\", tweet) # removing repeatetive letters in a word\n",
    "        tweet = \" \".join(tweet.split()) \n",
    "        tweet=tweet.lower() # convert to lower case\n",
    "        split_doc = [lemma.lemmatize(token) for token in tweet.split(\" \") if ((token not in stop_words) and (token not in string.punctuation))]\n",
    "        target = ' '.join(split_doc) # getting sentence from a list\n",
    "        \n",
    "        tokens.append(target) # adding to final list\n",
    "    return tokens\n",
    "\n",
    "X_token = tokenize(X)"
   ]
  },
  {
   "cell_type": "code",
   "execution_count": 5,
   "metadata": {},
   "outputs": [
    {
     "name": "stdout",
     "output_type": "stream",
     "text": [
      "number of null values in records:  0\n"
     ]
    }
   ],
   "source": [
    "# =============Null Check=============\n",
    "null_check = pd.Series(X_token)\n",
    "print('number of null values in records: ', len(null_check[null_check.isna()]))"
   ]
  },
  {
   "cell_type": "code",
   "execution_count": 6,
   "metadata": {},
   "outputs": [],
   "source": [
    "# =============Train-Test Split=============\n",
    "X_train, X_test, y_train, y_test = train_test_split(X_token, y, test_size=.2, stratify=y, shuffle=True, random_state=42)"
   ]
  },
  {
   "cell_type": "code",
   "execution_count": 7,
   "metadata": {},
   "outputs": [
    {
     "name": "stdout",
     "output_type": "stream",
     "text": [
      "(179995, 8000)\n",
      "(44999, 8000)\n"
     ]
    }
   ],
   "source": [
    "# =============Text Representation/Feature Creation=============\n",
    "tfidf = TfidfVectorizer(max_features=8000, lowercase=False, sublinear_tf=True)\n",
    "features_train = tfidf.fit_transform(X_train)\n",
    "labels_train = y_train\n",
    "print(features_train.shape)\n",
    "\n",
    "features_test = tfidf.transform(X_test)\n",
    "labels_test = y_test\n",
    "print(features_test.shape)"
   ]
  },
  {
   "cell_type": "code",
   "execution_count": 8,
   "metadata": {},
   "outputs": [
    {
     "name": "stdout",
     "output_type": "stream",
     "text": [
      "[1.         0.         0.         0.         0.         0.\n",
      " 0.         0.         0.         0.10283705]\n"
     ]
    }
   ],
   "source": [
    "# =============Cosine Similarity=============\n",
    "cosine_similarities = linear_kernel(features_train[0:1], features_train).flatten()\n",
    "print(cosine_similarities[:10])"
   ]
  },
  {
   "cell_type": "code",
   "execution_count": 12,
   "metadata": {},
   "outputs": [],
   "source": [
    "# =============Cross-Validation for Hyperparameter Tuning=============\n",
    "# =============Random Forest=============\n",
    "clf = RandomForestClassifier(random_state = 8)\n",
    "\n",
    "# =============Cross-Validation for Hyperparameter Tuning=============\n",
    "# n_estimators\n",
    "n_estimators = [int(x) for x in np.linspace(start = 200, stop = 1000, num = 5)]\n",
    "\n",
    "# max_features\n",
    "max_features = ['sqrt']\n",
    "\n",
    "\n",
    "# Create the random grid\n",
    "param_grid = {'n_estimators': n_estimators,\n",
    "               'max_features': max_features,\n",
    "              }"
   ]
  },
  {
   "cell_type": "code",
   "execution_count": 13,
   "metadata": {},
   "outputs": [
    {
     "name": "stdout",
     "output_type": "stream",
     "text": [
      "Fitting 3 folds for each of 5 candidates, totalling 15 fits\n"
     ]
    },
    {
     "data": {
      "text/plain": [
       "GridSearchCV(cv=ShuffleSplit(n_splits=3, random_state=8, test_size=0.33, train_size=None),\n",
       "             estimator=RandomForestClassifier(random_state=8), n_jobs=-1,\n",
       "             param_grid={'max_features': ['sqrt'],\n",
       "                         'n_estimators': [200, 400, 600, 800, 1000]},\n",
       "             scoring='f1_macro', verbose=1)"
      ]
     },
     "execution_count": 13,
     "metadata": {},
     "output_type": "execute_result"
    }
   ],
   "source": [
    "# =============Grid Search Cross Validation=============\n",
    "\n",
    "# Manually create the splits in CV in order to be able to fix a random_state (GridSearchCV doesn't have that argument)\n",
    "cv_sets = ShuffleSplit(n_splits = 3, test_size = .33, random_state = 8)\n",
    "\n",
    "# Instantiate the grid search model\n",
    "grid_search = GridSearchCV(estimator=clf,\n",
    "                            n_jobs=-1,\n",
    "                            param_grid=param_grid,\n",
    "                            scoring='f1_macro',\n",
    "                            cv=cv_sets,\n",
    "                            verbose=1)\n",
    "\n",
    "# Fit the grid search to the data\n",
    "grid_search.fit(features_train[:15000], labels_train[:15000])"
   ]
  },
  {
   "cell_type": "code",
   "execution_count": 15,
   "metadata": {},
   "outputs": [
    {
     "data": {
      "text/plain": [
       "RandomForestClassifier(max_features='sqrt', n_estimators=600, random_state=8)"
      ]
     },
     "execution_count": 15,
     "metadata": {},
     "output_type": "execute_result"
    }
   ],
   "source": [
    "# =============Best Model=============\n",
    "best_rfc = grid_search.best_estimator_\n",
    "best_rfc"
   ]
  },
  {
   "cell_type": "code",
   "execution_count": 17,
   "metadata": {},
   "outputs": [],
   "source": [
    "# =============Model Fitting and Performance=============\n",
    "best_rfc.fit(features_train[:15000], labels_train[:15000])\n",
    "rfc_pred = best_rfc.predict(features_test[:15000])"
   ]
  },
  {
   "cell_type": "code",
   "execution_count": 19,
   "metadata": {},
   "outputs": [
    {
     "name": "stdout",
     "output_type": "stream",
     "text": [
      "The training accuracy is: \n",
      "0.9946581895086624\n"
     ]
    }
   ],
   "source": [
    "# =============Training Accuracy=============\n",
    "print(\"The training accuracy is: \")\n",
    "print(f1_score(labels_train[:15000], best_rfc.predict(features_train[:15000]), average='macro'))"
   ]
  },
  {
   "cell_type": "code",
   "execution_count": 20,
   "metadata": {},
   "outputs": [
    {
     "name": "stdout",
     "output_type": "stream",
     "text": [
      "The test accuracy is: \n",
      "0.7170487326752293\n"
     ]
    }
   ],
   "source": [
    "# =============Test Accuracy=============\n",
    "print(\"The test accuracy is: \")\n",
    "print(f1_score(labels_test[:15000], rfc_pred[:15000], average='macro'))"
   ]
  },
  {
   "cell_type": "code",
   "execution_count": 22,
   "metadata": {},
   "outputs": [
    {
     "data": {
      "text/plain": [
       "'testing the whole data by founded hyperparameters'"
      ]
     },
     "execution_count": 22,
     "metadata": {},
     "output_type": "execute_result"
    }
   ],
   "source": [
    "'''testing the whole data by founded hyperparameters'''"
   ]
  },
  {
   "cell_type": "code",
   "execution_count": 21,
   "metadata": {},
   "outputs": [],
   "source": [
    "# =============Model Fitting and Performance=============\n",
    "best_rfc.fit(features_train, labels_train)\n",
    "rfc_pred = best_rfc.predict(features_test)"
   ]
  },
  {
   "cell_type": "code",
   "execution_count": 23,
   "metadata": {},
   "outputs": [
    {
     "name": "stdout",
     "output_type": "stream",
     "text": [
      "The test accuracy is: \n",
      "0.7494604440725003\n"
     ]
    }
   ],
   "source": [
    "# =============Test Accuracy=============\n",
    "print(\"The test accuracy is: \")\n",
    "print(f1_score(labels_test, rfc_pred, average='macro'))"
   ]
  },
  {
   "cell_type": "code",
   "execution_count": 24,
   "metadata": {},
   "outputs": [
    {
     "name": "stdout",
     "output_type": "stream",
     "text": [
      "Classification report\n",
      "              precision    recall  f1-score   support\n",
      "\n",
      "           0       0.73      0.67      0.70     18967\n",
      "           1       0.77      0.82      0.80     26032\n",
      "\n",
      "    accuracy                           0.76     44999\n",
      "   macro avg       0.75      0.75      0.75     44999\n",
      "weighted avg       0.76      0.76      0.76     44999\n",
      "\n"
     ]
    }
   ],
   "source": [
    "# =============Classification Report=============\n",
    "print(\"Classification report\")\n",
    "print(classification_report(labels_test,rfc_pred))"
   ]
  },
  {
   "cell_type": "code",
   "execution_count": 26,
   "metadata": {},
   "outputs": [
    {
     "data": {
      "image/png": "[encoded data removed]",
      "text/plain": [
       "<Figure size 432x288 with 2 Axes>"
      ]
     },
     "metadata": {
      "needs_background": "light"
     },
     "output_type": "display_data"
    }
   ],
   "source": [
    "# =============Confusion Matrix=============\n",
    "conf_matrix = confusion_matrix(labels_test, rfc_pred)\n",
    "sns.heatmap(conf_matrix, \n",
    "            annot=True,\n",
    "            cmap=\"Blues\")\n",
    "plt.ylabel('Predicted')\n",
    "plt.xlabel('Actual')\n",
    "plt.title('Confusion matrix')\n",
    "plt.show()\n"
   ]
  },
  {
   "cell_type": "code",
   "execution_count": null,
   "metadata": {},
   "outputs": [],
   "source": []
  }
 ],
 "metadata": {
  "kernelspec": {
   "display_name": "Python 3",
   "language": "python",
   "name": "python3"
  },
  "language_info": {
   "codemirror_mode": {
    "name": "ipython",
    "version": 3
   },
   "file_extension": ".py",
   "mimetype": "text/x-python",
   "name": "python",
   "nbconvert_exporter": "python",
   "pygments_lexer": "ipython3",
   "version": "3.8.5"
  }
 },
 "nbformat": 4,
 "nbformat_minor": 5
}
